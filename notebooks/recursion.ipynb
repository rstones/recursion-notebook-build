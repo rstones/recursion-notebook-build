{
 "cells": [
  {
   "cell_type": "markdown",
   "metadata": {},
   "source": [
    "# Recursion\n",
    "\n",
    "    def. see Recursion\n",
    "    \n",
    "Or more succinctly...recursion is a way of defining something in terms of itself or its type!\n",
    "\n",
    "In computing, we can perform certain calculations by breaking them down into self-similar pieces. We will see later in this lesson how functions can be called from within themselves to elegantly construct solutions to problems. You will get some practice with writing recursive functions and we will also discuss in which situations recursion might be useful for dealing with certain types of data.\n",
    "\n",
    "<img crossorigin=\"anonymous\" src=\"https://upload.wikimedia.org/wikipedia/commons/f/fd/Von_Koch_curve.gif\" class=\"mw-mmv-final-image gif mw-mmv-dialog-is-open\" alt=\"\">"
   ]
  },
  {
   "cell_type": "markdown",
   "metadata": {},
   "source": [
    "### Exercise 1"
   ]
  },
  {
   "cell_type": "markdown",
   "metadata": {},
   "source": [
    "We are going to warm up by writing a function to calculate the factorial of a non-negative integer $n$ using a for-loop.\n",
    "\n",
    "The factorial of $n$ is defined:\n",
    "\n",
    "$ n! = n\\times(n-1)\\times(n-2)\\times...\\times2\\times1$\n",
    "\n",
    "Writing out the maths explicitly for some small numbers should give you an idea of how the factorial is calculated...\n",
    "\n",
    "$0! = 1$ (this is a special case)\n",
    "\n",
    "$1! = 1$\n",
    "\n",
    "$2! = 2\\times1 = 2$\n",
    "\n",
    "$3! = 3\\times2\\times1 = 6$\n",
    "\n",
    "$4! = 4\\times3\\times2\\times1 = 24$\n",
    "\n",
    "$5! = 5\\times4\\times3\\times2\\times1 = 120$\n",
    "\n",
    "and so on...\n",
    "\n",
    "In the cell below complete the function to calculate the factorial using a for-loop."
   ]
  },
  {
   "cell_type": "code",
   "execution_count": 45,
   "metadata": {
    "collapsed": true
   },
   "outputs": [],
   "source": [
    "# calculate factorial of a non-negative integer n using a for loop\n",
    "def factorial_loop(n):\n",
    "    pass"
   ]
  },
  {
   "cell_type": "markdown",
   "metadata": {},
   "source": [
    "Now try out your new function by testing it against some values given for the factorial above. If it doesn't work can you work out why? Don't forget to test the special case 0!"
   ]
  },
  {
   "cell_type": "code",
   "execution_count": 60,
   "metadata": {},
   "outputs": [
    {
     "data": {
      "text/plain": [
       "1"
      ]
     },
     "execution_count": 60,
     "metadata": {},
     "output_type": "execute_result"
    }
   ],
   "source": [
    "# try out your function here\n",
    "factorial_loop(0)"
   ]
  },
  {
   "cell_type": "markdown",
   "metadata": {},
   "source": [
    "### Exercise 2"
   ]
  },
  {
   "cell_type": "markdown",
   "metadata": {},
   "source": [
    "The factorial can also be expressed in terms of another factorial, ie. recursively!\n",
    "\n",
    "$n! = n\\times(n-1)!$\n",
    "\n",
    "$n! = n\\times(n-1)\\times(n-2)!$\n",
    "\n",
    "$n! = n\\times(n-1)\\times(n-2)\\times(n-3)!$\n",
    "\n",
    "and so on until...\n",
    "\n",
    "$ n! = n\\times(n-1)\\times(n-2)\\times...\\times2\\times1$\n",
    "\n",
    "which is the definition we saw earlier.\n",
    "\n",
    "So rather than writing a for-loop to calculate the factorial of $n$ like we did before, we could multiply $n$ by $(n-1)!$. Then instead of calculating $(n-1)!$ with a for-loop we could multiply $(n-1)$ by $(n-2)!$. We could continue in this way until we reach $0!$ where we would stop.\n",
    "\n",
    "To get you started, I will walk you through this exercise showing you the basic features of a recursive function..."
   ]
  },
  {
   "cell_type": "code",
   "execution_count": 49,
   "metadata": {
    "collapsed": true
   },
   "outputs": [],
   "source": [
    "# calculate factorial of a non-negative integer n using recursion\n",
    "def factorial_rec(n):\n",
    "    pass"
   ]
  },
  {
   "cell_type": "markdown",
   "metadata": {},
   "source": [
    "Now try out your new function by testing it against the one you wrote using a for-loop. Does it give the same answers even for large values of n?\n",
    "\n",
    "Note: python will prevent you using n larger than about 1000 with a recursive function."
   ]
  },
  {
   "cell_type": "code",
   "execution_count": 63,
   "metadata": {},
   "outputs": [
    {
     "data": {
      "text/plain": [
       "120"
      ]
     },
     "execution_count": 63,
     "metadata": {},
     "output_type": "execute_result"
    }
   ],
   "source": [
    "# try out your function here\n",
    "factorial_rec(5)"
   ]
  },
  {
   "cell_type": "markdown",
   "metadata": {},
   "source": [
    "### Recursion recap"
   ]
  },
  {
   "cell_type": "markdown",
   "metadata": {},
   "source": [
    "So far we have compared the use of loops and recursion to solve the same problem. In fact loops can be expressed using recursion in lots of cases. Whether recursion is the best solution will depend on the particular situation.\n",
    "\n",
    "Two important things to remember about writing a recusive function:\n",
    "- Define a base case which will stop the recursion\n",
    "- Call the function from within itself for a 'simplified' case of the problem"
   ]
  },
  {
   "cell_type": "markdown",
   "metadata": {},
   "source": [
    "### When is recursion useful then?"
   ]
  },
  {
   "cell_type": "markdown",
   "metadata": {},
   "source": [
    "When writing code, you should be aiming for a balance of readablility and performance. A general rule of thumb is to write readable code first, then optimise if you need to.\n",
    "\n",
    "Recusion might be the most natural way to express a problem (instead of using a loop say) but it can sometimes affect performance. Calling a function from within itself many times can take up a lot of memory or take longer to run compared to a loop.\n",
    "\n",
    "Cases where recursion seems particularly natural for expressing a solution are when using nested data structures such as lists of lists and dictionaries of dictionaries:\n",
    "\n",
    "```python\n",
    "nested_list = [1, [2,3,4], [5,6,[7,8,9]] # a list containing more lists\n",
    "\n",
    "nested_dict = { # a dictionary containing more dictionaries\n",
    "    'a': {\n",
    "        'c': {\n",
    "            'd': 'some data'\n",
    "        }\n",
    "    },\n",
    "    'b': {\n",
    "        'e': 'more data'\n",
    "    }\n",
    "}\n",
    "```"
   ]
  },
  {
   "cell_type": "markdown",
   "metadata": {},
   "source": [
    "### Exercise 3"
   ]
  },
  {
   "cell_type": "markdown",
   "metadata": {},
   "source": [
    "For the final challenge we are going to write out the lyrics for the Twelve Days of Christmas using recursion!\n",
    "\n",
    "Below are lists of the gifts and the days..."
   ]
  },
  {
   "cell_type": "code",
   "execution_count": 52,
   "metadata": {
    "collapsed": true
   },
   "outputs": [],
   "source": [
    "gifts = [\n",
    "    'a partridge in a pear tree',\n",
    "    'two turtle doves',\n",
    "    'three French hens',\n",
    "    'four calling birds',\n",
    "    'fiiiive goooold riiiiings',\n",
    "    'six geese a-laying',\n",
    "    'seven swans a-swimming',\n",
    "    'eight maids a-milking',\n",
    "    'nine ladies dancing',\n",
    "    'ten lords a-leaping',\n",
    "    'eleven pipers piping',\n",
    "    'twelve drummers drumming'\n",
    "]\n",
    "\n",
    "days = [\n",
    "    'first',\n",
    "    'second',\n",
    "    'third',\n",
    "    'fourth',\n",
    "    'fifth',\n",
    "    'sixth',\n",
    "    'seventh',\n",
    "    'eighth',\n",
    "    'nineth',\n",
    "    'tenth',\n",
    "    'eleventh',\n",
    "    'twelveth'\n",
    "]"
   ]
  },
  {
   "cell_type": "markdown",
   "metadata": {},
   "source": [
    "There are three functions that we will need.\n",
    "\n",
    "The function ```verse_gifts(day)``` returns the list of gifts at the end of a verse on the given day.  Eg. on the third day 'three French hens, two turtle doves and a partridge in a pear tree'.\n",
    "\n",
    "This is an example of a recursive function with a base case (day 1) and recursive function call appending a list of gifts from the previous day to the gift received on the current day."
   ]
  },
  {
   "cell_type": "code",
   "execution_count": 54,
   "metadata": {},
   "outputs": [
    {
     "name": "stdout",
     "output_type": "stream",
     "text": [
      "three French hens,\n",
      "two turtle doves,\n",
      "and a partridge in a pear tree\n"
     ]
    }
   ],
   "source": [
    "# construct a string of all the gifts received on a given day\n",
    "def verse_gifts(day):\n",
    "    if day == 1:\n",
    "        # base case, return the gift from the first day\n",
    "        return gifts[0]\n",
    "    else:\n",
    "        # recursively get the gifts from the current day and all previous days\n",
    "        # we need to use a conditional expression on day 2 to add the 'and'\n",
    "        return gifts[day-1] + ',\\n' + ('and ' if day == 2 else '') + verse_gifts(day-1)\n",
    "\n",
    "# print the gifts recieved in a verse\n",
    "print(verse_gifts(3))"
   ]
  },
  {
   "cell_type": "markdown",
   "metadata": {},
   "source": [
    "The function ```verse(day)``` constructs the string for a single verse calling ```verse_gifts(day)``` to get the list of gifts sent on that day."
   ]
  },
  {
   "cell_type": "code",
   "execution_count": 56,
   "metadata": {},
   "outputs": [
    {
     "name": "stdout",
     "output_type": "stream",
     "text": [
      "On the third day of Christmas my true love sent to me,\n",
      "three French hens,\n",
      "two turtle doves,\n",
      "and a partridge in a pear tree.\n",
      "\n",
      "\n"
     ]
    }
   ],
   "source": [
    "# construct a verse for a given day\n",
    "def verse(day):\n",
    "    return 'On the ' + days[day-1] + ' day of Christmas my true love sent to me,\\n' + verse_gifts(day) + '.\\n\\n'\n",
    "\n",
    "# print a verse\n",
    "print(verse(3))"
   ]
  },
  {
   "cell_type": "markdown",
   "metadata": {},
   "source": [
    "The function ```song(day)``` returns all the verses up to a given day. So if we call song(5) we should get a string containing all the verses up to day 5.\n",
    "\n",
    "We could do this using a loop but lets try completing this function using recursion.\n",
    "\n",
    "Then print the lyrics to whole song :-)"
   ]
  },
  {
   "cell_type": "code",
   "execution_count": null,
   "metadata": {
    "collapsed": true
   },
   "outputs": [],
   "source": [
    "# construct the whole song up to the verse for a given day\n",
    "def song(day):\n",
    "    pass\n",
    "\n",
    "# print the whole song\n",
    "print(song(12))"
   ]
  }
 ],
 "metadata": {
  "kernelspec": {
   "display_name": "Python 3",
   "language": "python",
   "name": "python3"
  },
  "language_info": {
   "codemirror_mode": {
    "name": "ipython",
    "version": 3
   },
   "file_extension": ".py",
   "mimetype": "text/x-python",
   "name": "python",
   "nbconvert_exporter": "python",
   "pygments_lexer": "ipython3",
   "version": "3.6.3"
  }
 },
 "nbformat": 4,
 "nbformat_minor": 2
}
